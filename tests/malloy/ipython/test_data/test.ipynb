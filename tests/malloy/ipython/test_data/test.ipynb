{
 "cells": [
  {
   "attachments": {},
   "cell_type": "markdown",
   "metadata": {},
   "source": [
    "# Test Document"
   ]
  },
  {
   "cell_type": "code",
   "execution_count": 1,
   "metadata": {},
   "outputs": [
    {
     "name": "stdout",
     "output_type": "stream",
     "text": [
      "Malloy ahoy\n"
     ]
    }
   ],
   "source": [
    "# @title Initialization\n",
    "\n",
    "%reload_ext malloy"
   ]
  },
  {
   "cell_type": "code",
   "execution_count": 2,
   "metadata": {},
   "outputs": [
    {
     "name": "stdout",
     "output_type": "stream",
     "text": [
      "Stored in model\n"
     ]
    }
   ],
   "source": [
    "%%malloy_model model\n",
    "\n",
    "source: airports is table('duckdb:data/airports.parquet') {\n",
    "  declare:\n",
    "    airports_count is count()\n",
    "}\n"
   ]
  },
  {
   "cell_type": "code",
   "execution_count": 3,
   "metadata": {},
   "outputs": [
    {
     "name": "stdout",
     "output_type": "stream",
     "text": [
      "Stored in results\n"
     ]
    }
   ],
   "source": [
    "%%malloy_query model results\n",
    "\n",
    "query: airports -> {\n",
    "  group_by: faa_region\n",
    "  aggregate:\n",
    "    airports_count\n",
    "  limit: 10\n",
    "}\n"
   ]
  },
  {
   "cell_type": "code",
   "execution_count": 4,
   "metadata": {},
   "outputs": [
    {
     "name": "stdout",
     "output_type": "stream",
     "text": [
      "  faa_region  airports_count\n",
      "0        AGL            4437\n",
      "1        ASW            3268\n",
      "2        ASO            2924\n",
      "3        AEA            2586\n",
      "4        ANM            2102\n",
      "5        ACE            1579\n",
      "6        AWP            1503\n",
      "7        ANE             763\n",
      "8        AAL             608\n",
      "9        NaN              23\n"
     ]
    }
   ],
   "source": [
    "print(results)"
   ]
  }
 ],
 "metadata": {
  "kernelspec": {
   "display_name": "Python 3",
   "language": "python",
   "name": "python3"
  },
  "language_info": {
   "codemirror_mode": {
    "name": "ipython",
    "version": 3
   },
   "file_extension": ".py",
   "mimetype": "text/x-python",
   "name": "python",
   "nbconvert_exporter": "python",
   "pygments_lexer": "ipython3",
   "version": "3.9.15"
  },
  "orig_nbformat": 4
 },
 "nbformat": 4,
 "nbformat_minor": 2
}
